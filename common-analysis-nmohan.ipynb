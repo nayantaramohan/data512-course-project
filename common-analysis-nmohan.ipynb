{
 "cells": [
  {
   "cell_type": "markdown",
   "id": "b9ab99f7",
   "metadata": {},
   "source": [
    "# Part 1: Common Analysis"
   ]
  },
  {
   "cell_type": "markdown",
   "id": "5f4934df",
   "metadata": {},
   "source": [
    " The course project is broken into four parts:   \n",
    "- Part 1 - Common Analysis sets the stage for the subsequent assignments. In A4 you conduct a base analysis. All of the students in the class will conduct the same analysis, but with a slightly different data subset.\n",
    "- Part 2 - Extension Plan will require you to ask a human centered data science question that extends the work in A4: Common Analysis. \n",
    "- Part 3 - Presentation will require you to give a modified (shorter) [PechaKucha](https://en.wikipedia.org/wiki/PechaKucha) presentation of your completed project.\n",
    "- Part 4 - Project Repository, creation of a fully documented repository and also requires the submission of a written project report.\n"
   ]
  },
  {
   "cell_type": "code",
   "execution_count": 1,
   "id": "0ce8cc70",
   "metadata": {},
   "outputs": [],
   "source": [
    "# Loading all the libraries that would be required for this analysis\n",
    "\n",
    "import numpy as np\n",
    "import pandas as pd\n",
    "import matplotlib.pyplot as plt\n",
    "import datetime as datetime\n",
    "import ruptures as rpt\n",
    "import matplotlib.patches as mpatches"
   ]
  },
  {
   "cell_type": "markdown",
   "id": "ccca4e47",
   "metadata": {},
   "source": [
    "## Step 0: Data Acquisition"
   ]
  },
  {
   "cell_type": "markdown",
   "id": "4d8719a1",
   "metadata": {},
   "source": [
    "1. The RAW_us_confirmed_cases.csv file from the Kaggle repository of [John Hopkins University COVID-19 data](https://www.kaggle.com/datasets/antgoldbloom/covid19-data-from-john-hopkins-university). This data is updated daily. You can use any revision of this dataset posted after October 1, 2022.\n",
    "2. The CDC dataset of [masking mandates by county](https://data.cdc.gov/Policy-Surveillance/U-S-State-and-Territorial-Public-Mask-Mandates-Fro/62d6-pm5i). Note that the CDC stopped collecting this policy information in September 2021.\n",
    "3. The New York Times [mask compliance survey](https://github.com/nytimes/covid-19-data/tree/master/mask-use) data.  \n",
    "### US County Assigned: San Mateo, CA"
   ]
  },
  {
   "cell_type": "code",
   "execution_count": 2,
   "id": "952a57bb",
   "metadata": {},
   "outputs": [],
   "source": [
    "confirmed_cases = pd.read_csv('RAW_us_confirmed_cases.csv')\n",
    "masking_mandate = pd.read_csv('cdc_masking_mandates_county.csv')\n",
    "mask_use = pd.read_csv('mask-use-by-county.csv')"
   ]
  },
  {
   "cell_type": "markdown",
   "id": "c630d9f2",
   "metadata": {},
   "source": [
    "Loading all the raw data files into dataframes: -\n",
    "- confirmed_cases: contains the raw file of RAW_us_confirmed_cases.csv\n",
    "- masking_mandate: contains the data file as downloaded from the CDC dataset for masking mandates by county\n",
    "- mask_use: contains the data set as downloaded from the NYT website for the mask compliance survey"
   ]
  },
  {
   "cell_type": "markdown",
   "id": "3f0abad1",
   "metadata": {},
   "source": [
    "## Step 1: Analyze"
   ]
  },
  {
   "cell_type": "markdown",
   "id": "188e42a3",
   "metadata": {},
   "source": [
    "**Research question** : How did masking policies change the progression of confirmed COVID-19 cases from February 1, 2020 through October 1, 2021?"
   ]
  },
  {
   "cell_type": "markdown",
   "id": "dc0fc5e0",
   "metadata": {},
   "source": [
    "## Data Cleaning and Standardization\n",
    "\n",
    "### 1. For the confirmed cases per county"
   ]
  },
  {
   "cell_type": "code",
   "execution_count": 3,
   "id": "34d26106",
   "metadata": {},
   "outputs": [
    {
     "data": {
      "text/html": [
       "<div>\n",
       "<style scoped>\n",
       "    .dataframe tbody tr th:only-of-type {\n",
       "        vertical-align: middle;\n",
       "    }\n",
       "\n",
       "    .dataframe tbody tr th {\n",
       "        vertical-align: top;\n",
       "    }\n",
       "\n",
       "    .dataframe thead th {\n",
       "        text-align: right;\n",
       "    }\n",
       "</style>\n",
       "<table border=\"1\" class=\"dataframe\">\n",
       "  <thead>\n",
       "    <tr style=\"text-align: right;\">\n",
       "      <th></th>\n",
       "      <th>Province_State</th>\n",
       "      <th>Admin2</th>\n",
       "      <th>UID</th>\n",
       "      <th>iso2</th>\n",
       "      <th>iso3</th>\n",
       "      <th>code3</th>\n",
       "      <th>FIPS</th>\n",
       "      <th>Country_Region</th>\n",
       "      <th>Lat</th>\n",
       "      <th>Long_</th>\n",
       "      <th>...</th>\n",
       "      <th>10/22/22</th>\n",
       "      <th>10/23/22</th>\n",
       "      <th>10/24/22</th>\n",
       "      <th>10/25/22</th>\n",
       "      <th>10/26/22</th>\n",
       "      <th>10/27/22</th>\n",
       "      <th>10/28/22</th>\n",
       "      <th>10/29/22</th>\n",
       "      <th>10/30/22</th>\n",
       "      <th>10/31/22</th>\n",
       "    </tr>\n",
       "  </thead>\n",
       "  <tbody>\n",
       "    <tr>\n",
       "      <th>238</th>\n",
       "      <td>California</td>\n",
       "      <td>San Mateo</td>\n",
       "      <td>84006081</td>\n",
       "      <td>US</td>\n",
       "      <td>USA</td>\n",
       "      <td>840</td>\n",
       "      <td>6081.0</td>\n",
       "      <td>US</td>\n",
       "      <td>37.422881</td>\n",
       "      <td>-122.327555</td>\n",
       "      <td>...</td>\n",
       "      <td>180152</td>\n",
       "      <td>180152</td>\n",
       "      <td>180152</td>\n",
       "      <td>180609</td>\n",
       "      <td>180609</td>\n",
       "      <td>180610</td>\n",
       "      <td>180611</td>\n",
       "      <td>180611</td>\n",
       "      <td>180611</td>\n",
       "      <td>180611</td>\n",
       "    </tr>\n",
       "  </tbody>\n",
       "</table>\n",
       "<p>1 rows × 1025 columns</p>\n",
       "</div>"
      ],
      "text/plain": [
       "    Province_State     Admin2       UID iso2 iso3  code3    FIPS  \\\n",
       "238     California  San Mateo  84006081   US  USA    840  6081.0   \n",
       "\n",
       "    Country_Region        Lat       Long_  ... 10/22/22  10/23/22  10/24/22  \\\n",
       "238             US  37.422881 -122.327555  ...   180152    180152    180152   \n",
       "\n",
       "     10/25/22  10/26/22  10/27/22  10/28/22  10/29/22  10/30/22  10/31/22  \n",
       "238    180609    180609    180610    180611    180611    180611    180611  \n",
       "\n",
       "[1 rows x 1025 columns]"
      ]
     },
     "execution_count": 3,
     "metadata": {},
     "output_type": "execute_result"
    }
   ],
   "source": [
    "# Creating a sub-data frame which has the data of the desired county only\n",
    "# Province_State = California and Admin2 = San Mateo\n",
    "\n",
    "county_cases = confirmed_cases[(confirmed_cases[\"Province_State\"] == \"California\") & \n",
    "                               (confirmed_cases[\"Admin2\"] == \"San Mateo\")]\n",
    "\n",
    "#Viewing the dataframe to understand it better\n",
    "county_cases"
   ]
  },
  {
   "cell_type": "markdown",
   "id": "45fbbbcf",
   "metadata": {},
   "source": [
    "We see the FIPS score will be needed for accessing the mask_use dataframe, hence storing that value is a variable called 'san_mateo_FIPS'"
   ]
  },
  {
   "cell_type": "code",
   "execution_count": 4,
   "id": "326b0b7f",
   "metadata": {},
   "outputs": [
    {
     "data": {
      "text/plain": [
       "6081.0"
      ]
     },
     "execution_count": 4,
     "metadata": {},
     "output_type": "execute_result"
    }
   ],
   "source": [
    "san_mateo_FIPS = county_cases['FIPS'].values[0]\n",
    "san_mateo_FIPS"
   ]
  },
  {
   "cell_type": "markdown",
   "id": "eb61fc95",
   "metadata": {},
   "source": [
    "Looking at all the column names in county_cases, not all of them are useful/needed. Thus we create a new dataframe to just keep only the relevant date columns.\n",
    "Columns 21 onwards is from Feb 01, 2020."
   ]
  },
  {
   "cell_type": "code",
   "execution_count": 5,
   "id": "765b7c05",
   "metadata": {},
   "outputs": [],
   "source": [
    "county_cases_bydate = county_cases[county_cases.columns[21:]]\n",
    "county_cases_bydate = pd.DataFrame(county_cases_bydate.iloc[0])\n",
    "county_cases_bydate = county_cases_bydate.reset_index()\n",
    "county_cases_bydate.columns = [\"date\", \"confirmed_cases\"]"
   ]
  },
  {
   "cell_type": "markdown",
   "id": "4e6a4be9",
   "metadata": {},
   "source": [
    "Converting the 'date' column to 'datetime' type so that we can use *filter* to get the desired subset of the desired date range. i.e., February 1, 2020 through October 1, 2021"
   ]
  },
  {
   "cell_type": "code",
   "execution_count": 6,
   "id": "29eacfae",
   "metadata": {},
   "outputs": [],
   "source": [
    "county_cases_bydate['date'] = pd.to_datetime(county_cases_bydate['date'])\n",
    "county_cases_bydate = county_cases_bydate.loc[(county_cases_bydate['date'] <= '2021-10-01')]"
   ]
  },
  {
   "cell_type": "markdown",
   "id": "f9537cea",
   "metadata": {},
   "source": [
    "After creating the dataframe, we want to check if there are any missing values before proceeding onto cleaning the other dataframes."
   ]
  },
  {
   "cell_type": "code",
   "execution_count": 7,
   "id": "1e87bf6e",
   "metadata": {},
   "outputs": [
    {
     "data": {
      "text/plain": [
       "date               0\n",
       "confirmed_cases    0\n",
       "dtype: int64"
      ]
     },
     "execution_count": 7,
     "metadata": {},
     "output_type": "execute_result"
    }
   ],
   "source": [
    "county_cases_bydate.isna().sum()"
   ]
  },
  {
   "cell_type": "markdown",
   "id": "d9ae86c8",
   "metadata": {},
   "source": [
    "Windowing the data to **weekly** to smoothen the noise and interpret better."
   ]
  },
  {
   "cell_type": "code",
   "execution_count": 8,
   "id": "dbe2e5f8",
   "metadata": {},
   "outputs": [],
   "source": [
    "county_cases_bydate['confirmed_cases'] = county_cases_bydate['confirmed_cases'].rolling(7).mean()\n",
    "county_cases_bydate = county_cases_bydate.fillna(0)"
   ]
  },
  {
   "cell_type": "markdown",
   "id": "43d0b89e",
   "metadata": {},
   "source": [
    "Confirmed cases is to be the cumulative number of cases confirmed. Thus daily confirmed cases will be a a delta change thus clculating the gradient of the cases to get daily confirmed cases."
   ]
  },
  {
   "cell_type": "code",
   "execution_count": 9,
   "id": "f8626fa1",
   "metadata": {},
   "outputs": [
    {
     "data": {
      "text/html": [
       "<div>\n",
       "<style scoped>\n",
       "    .dataframe tbody tr th:only-of-type {\n",
       "        vertical-align: middle;\n",
       "    }\n",
       "\n",
       "    .dataframe tbody tr th {\n",
       "        vertical-align: top;\n",
       "    }\n",
       "\n",
       "    .dataframe thead th {\n",
       "        text-align: right;\n",
       "    }\n",
       "</style>\n",
       "<table border=\"1\" class=\"dataframe\">\n",
       "  <thead>\n",
       "    <tr style=\"text-align: right;\">\n",
       "      <th></th>\n",
       "      <th>confirmed_cases</th>\n",
       "    </tr>\n",
       "    <tr>\n",
       "      <th>date</th>\n",
       "      <th></th>\n",
       "    </tr>\n",
       "  </thead>\n",
       "  <tbody>\n",
       "    <tr>\n",
       "      <th>2020-02-01</th>\n",
       "      <td>0.000000</td>\n",
       "    </tr>\n",
       "    <tr>\n",
       "      <th>2020-02-02</th>\n",
       "      <td>0.000000</td>\n",
       "    </tr>\n",
       "    <tr>\n",
       "      <th>2020-02-03</th>\n",
       "      <td>0.000000</td>\n",
       "    </tr>\n",
       "    <tr>\n",
       "      <th>2020-02-04</th>\n",
       "      <td>0.000000</td>\n",
       "    </tr>\n",
       "    <tr>\n",
       "      <th>2020-02-05</th>\n",
       "      <td>0.000000</td>\n",
       "    </tr>\n",
       "    <tr>\n",
       "      <th>...</th>\n",
       "      <td>...</td>\n",
       "    </tr>\n",
       "    <tr>\n",
       "      <th>2021-09-27</th>\n",
       "      <td>68.500000</td>\n",
       "    </tr>\n",
       "    <tr>\n",
       "      <th>2021-09-28</th>\n",
       "      <td>70.000000</td>\n",
       "    </tr>\n",
       "    <tr>\n",
       "      <th>2021-09-29</th>\n",
       "      <td>71.071429</td>\n",
       "    </tr>\n",
       "    <tr>\n",
       "      <th>2021-09-30</th>\n",
       "      <td>72.857143</td>\n",
       "    </tr>\n",
       "    <tr>\n",
       "      <th>2021-10-01</th>\n",
       "      <td>73.000000</td>\n",
       "    </tr>\n",
       "  </tbody>\n",
       "</table>\n",
       "<p>609 rows × 1 columns</p>\n",
       "</div>"
      ],
      "text/plain": [
       "            confirmed_cases\n",
       "date                       \n",
       "2020-02-01         0.000000\n",
       "2020-02-02         0.000000\n",
       "2020-02-03         0.000000\n",
       "2020-02-04         0.000000\n",
       "2020-02-05         0.000000\n",
       "...                     ...\n",
       "2021-09-27        68.500000\n",
       "2021-09-28        70.000000\n",
       "2021-09-29        71.071429\n",
       "2021-09-30        72.857143\n",
       "2021-10-01        73.000000\n",
       "\n",
       "[609 rows x 1 columns]"
      ]
     },
     "execution_count": 9,
     "metadata": {},
     "output_type": "execute_result"
    }
   ],
   "source": [
    "county_cases_bydate[\"confirmed_cases\"] = pd.Series(np.gradient(county_cases_bydate[\"confirmed_cases\"]), \n",
    "                                             county_cases_bydate[\"date\"], name='confirmed_cases').values\n",
    "# Taking the absolute as there are very few places where the delta change is \n",
    "# negative and this could be an issue of data entry.\n",
    "\n",
    "county_cases_bydate[\"confirmed_cases\"] = county_cases_bydate[\"confirmed_cases\"].abs()\n",
    "\n",
    "# For the purpoe of time series analysis, converting the dataframe into a series\n",
    "# With date set as the index\n",
    "county_cases_bydate = county_cases_bydate.set_index('date') \n",
    "county_cases_bydate"
   ]
  },
  {
   "cell_type": "markdown",
   "id": "84839879",
   "metadata": {},
   "source": [
    "### 2. For masking mandate per county dataframe"
   ]
  },
  {
   "cell_type": "code",
   "execution_count": 10,
   "id": "89a62995",
   "metadata": {},
   "outputs": [],
   "source": [
    "# Creating a 'm_mandate_county' dataframe to store the respectove data for San Mateo, CA\n",
    "\n",
    "m_mandate_county = masking_mandate[(masking_mandate[\"County_Name\"] == \"San Mateo County\") & \n",
    "                               (masking_mandate[\"State_Tribe_Territory\"] == \"CA\")]"
   ]
  },
  {
   "cell_type": "code",
   "execution_count": 11,
   "id": "42ec7689",
   "metadata": {},
   "outputs": [
    {
     "data": {
      "text/html": [
       "<div>\n",
       "<style scoped>\n",
       "    .dataframe tbody tr th:only-of-type {\n",
       "        vertical-align: middle;\n",
       "    }\n",
       "\n",
       "    .dataframe tbody tr th {\n",
       "        vertical-align: top;\n",
       "    }\n",
       "\n",
       "    .dataframe thead th {\n",
       "        text-align: right;\n",
       "    }\n",
       "</style>\n",
       "<table border=\"1\" class=\"dataframe\">\n",
       "  <thead>\n",
       "    <tr style=\"text-align: right;\">\n",
       "      <th></th>\n",
       "      <th>State_Tribe_Territory</th>\n",
       "      <th>County_Name</th>\n",
       "      <th>FIPS_State</th>\n",
       "      <th>FIPS_County</th>\n",
       "      <th>date</th>\n",
       "      <th>order_code</th>\n",
       "      <th>Face_Masks_Required_in_Public</th>\n",
       "      <th>Source_of_Action</th>\n",
       "      <th>URL</th>\n",
       "      <th>Citation</th>\n",
       "    </tr>\n",
       "  </thead>\n",
       "  <tbody>\n",
       "    <tr>\n",
       "      <th>60116</th>\n",
       "      <td>CA</td>\n",
       "      <td>San Mateo County</td>\n",
       "      <td>6</td>\n",
       "      <td>81</td>\n",
       "      <td>4/10/2020</td>\n",
       "      <td>2</td>\n",
       "      <td>NaN</td>\n",
       "      <td>NaN</td>\n",
       "      <td>NaN</td>\n",
       "      <td>NaN</td>\n",
       "    </tr>\n",
       "    <tr>\n",
       "      <th>60117</th>\n",
       "      <td>CA</td>\n",
       "      <td>San Mateo County</td>\n",
       "      <td>6</td>\n",
       "      <td>81</td>\n",
       "      <td>4/11/2020</td>\n",
       "      <td>2</td>\n",
       "      <td>NaN</td>\n",
       "      <td>NaN</td>\n",
       "      <td>NaN</td>\n",
       "      <td>NaN</td>\n",
       "    </tr>\n",
       "    <tr>\n",
       "      <th>60118</th>\n",
       "      <td>CA</td>\n",
       "      <td>San Mateo County</td>\n",
       "      <td>6</td>\n",
       "      <td>81</td>\n",
       "      <td>4/12/2020</td>\n",
       "      <td>2</td>\n",
       "      <td>NaN</td>\n",
       "      <td>NaN</td>\n",
       "      <td>NaN</td>\n",
       "      <td>NaN</td>\n",
       "    </tr>\n",
       "    <tr>\n",
       "      <th>60119</th>\n",
       "      <td>CA</td>\n",
       "      <td>San Mateo County</td>\n",
       "      <td>6</td>\n",
       "      <td>81</td>\n",
       "      <td>4/13/2020</td>\n",
       "      <td>2</td>\n",
       "      <td>NaN</td>\n",
       "      <td>NaN</td>\n",
       "      <td>NaN</td>\n",
       "      <td>NaN</td>\n",
       "    </tr>\n",
       "    <tr>\n",
       "      <th>60120</th>\n",
       "      <td>CA</td>\n",
       "      <td>San Mateo County</td>\n",
       "      <td>6</td>\n",
       "      <td>81</td>\n",
       "      <td>4/14/2020</td>\n",
       "      <td>2</td>\n",
       "      <td>NaN</td>\n",
       "      <td>NaN</td>\n",
       "      <td>NaN</td>\n",
       "      <td>NaN</td>\n",
       "    </tr>\n",
       "  </tbody>\n",
       "</table>\n",
       "</div>"
      ],
      "text/plain": [
       "      State_Tribe_Territory       County_Name  FIPS_State  FIPS_County  \\\n",
       "60116                    CA  San Mateo County           6           81   \n",
       "60117                    CA  San Mateo County           6           81   \n",
       "60118                    CA  San Mateo County           6           81   \n",
       "60119                    CA  San Mateo County           6           81   \n",
       "60120                    CA  San Mateo County           6           81   \n",
       "\n",
       "            date  order_code Face_Masks_Required_in_Public Source_of_Action  \\\n",
       "60116  4/10/2020           2                           NaN              NaN   \n",
       "60117  4/11/2020           2                           NaN              NaN   \n",
       "60118  4/12/2020           2                           NaN              NaN   \n",
       "60119  4/13/2020           2                           NaN              NaN   \n",
       "60120  4/14/2020           2                           NaN              NaN   \n",
       "\n",
       "       URL Citation  \n",
       "60116  NaN      NaN  \n",
       "60117  NaN      NaN  \n",
       "60118  NaN      NaN  \n",
       "60119  NaN      NaN  \n",
       "60120  NaN      NaN  "
      ]
     },
     "execution_count": 11,
     "metadata": {},
     "output_type": "execute_result"
    }
   ],
   "source": [
    "m_mandate_county.head()"
   ]
  },
  {
   "cell_type": "markdown",
   "id": "aed7f0c8",
   "metadata": {},
   "source": [
    "Looking are the dataframe we can see that the columns of interest for us would be \"date\" and \"Face_Masks_Required_in_Public\""
   ]
  },
  {
   "cell_type": "code",
   "execution_count": 12,
   "id": "e4fd374c",
   "metadata": {},
   "outputs": [
    {
     "data": {
      "text/plain": [
       "array([nan, 'Yes'], dtype=object)"
      ]
     },
     "execution_count": 12,
     "metadata": {},
     "output_type": "execute_result"
    }
   ],
   "source": [
    "m_mandate_county = m_mandate_county.filter(['date', 'Face_Masks_Required_in_Public'], axis = 1)\n",
    "\n",
    "# Checking for the kinds of values present in the dataframe\n",
    "m_mandate_county.Face_Masks_Required_in_Public.unique()"
   ]
  },
  {
   "cell_type": "markdown",
   "id": "2a823578",
   "metadata": {},
   "source": [
    "As we can see, NAN can be replaced with \"No\" as there is no other option int he dataframe other than 'Yes' and 'NAN'"
   ]
  },
  {
   "cell_type": "code",
   "execution_count": 13,
   "id": "5385b781",
   "metadata": {},
   "outputs": [
    {
     "data": {
      "text/html": [
       "<div>\n",
       "<style scoped>\n",
       "    .dataframe tbody tr th:only-of-type {\n",
       "        vertical-align: middle;\n",
       "    }\n",
       "\n",
       "    .dataframe tbody tr th {\n",
       "        vertical-align: top;\n",
       "    }\n",
       "\n",
       "    .dataframe thead th {\n",
       "        text-align: right;\n",
       "    }\n",
       "</style>\n",
       "<table border=\"1\" class=\"dataframe\">\n",
       "  <thead>\n",
       "    <tr style=\"text-align: right;\">\n",
       "      <th></th>\n",
       "      <th>Face_Masks_Required_in_Public</th>\n",
       "    </tr>\n",
       "    <tr>\n",
       "      <th>date</th>\n",
       "      <th></th>\n",
       "    </tr>\n",
       "  </thead>\n",
       "  <tbody>\n",
       "    <tr>\n",
       "      <th>2020-04-10</th>\n",
       "      <td>No</td>\n",
       "    </tr>\n",
       "    <tr>\n",
       "      <th>2020-04-11</th>\n",
       "      <td>No</td>\n",
       "    </tr>\n",
       "    <tr>\n",
       "      <th>2020-04-12</th>\n",
       "      <td>No</td>\n",
       "    </tr>\n",
       "    <tr>\n",
       "      <th>2020-04-13</th>\n",
       "      <td>No</td>\n",
       "    </tr>\n",
       "    <tr>\n",
       "      <th>2020-04-14</th>\n",
       "      <td>No</td>\n",
       "    </tr>\n",
       "    <tr>\n",
       "      <th>...</th>\n",
       "      <td>...</td>\n",
       "    </tr>\n",
       "    <tr>\n",
       "      <th>2021-08-11</th>\n",
       "      <td>Yes</td>\n",
       "    </tr>\n",
       "    <tr>\n",
       "      <th>2021-08-12</th>\n",
       "      <td>Yes</td>\n",
       "    </tr>\n",
       "    <tr>\n",
       "      <th>2021-08-13</th>\n",
       "      <td>Yes</td>\n",
       "    </tr>\n",
       "    <tr>\n",
       "      <th>2021-08-14</th>\n",
       "      <td>Yes</td>\n",
       "    </tr>\n",
       "    <tr>\n",
       "      <th>2021-08-15</th>\n",
       "      <td>Yes</td>\n",
       "    </tr>\n",
       "  </tbody>\n",
       "</table>\n",
       "<p>493 rows × 1 columns</p>\n",
       "</div>"
      ],
      "text/plain": [
       "           Face_Masks_Required_in_Public\n",
       "date                                    \n",
       "2020-04-10                            No\n",
       "2020-04-11                            No\n",
       "2020-04-12                            No\n",
       "2020-04-13                            No\n",
       "2020-04-14                            No\n",
       "...                                  ...\n",
       "2021-08-11                           Yes\n",
       "2021-08-12                           Yes\n",
       "2021-08-13                           Yes\n",
       "2021-08-14                           Yes\n",
       "2021-08-15                           Yes\n",
       "\n",
       "[493 rows x 1 columns]"
      ]
     },
     "execution_count": 13,
     "metadata": {},
     "output_type": "execute_result"
    }
   ],
   "source": [
    "m_mandate_county[\"Face_Masks_Required_in_Public\"] = m_mandate_county[\"Face_Masks_Required_in_Public\"].fillna(\"No\")\n",
    "\n",
    "# Converting date as string to date-time format\n",
    "# To be able to set it as an index\n",
    "m_mandate_county['date'] = pd.to_datetime(m_mandate_county['date'])\n",
    "m_mandate_county = m_mandate_county.set_index('date')\n",
    "m_mandate_county"
   ]
  },
  {
   "cell_type": "markdown",
   "id": "131bb727",
   "metadata": {},
   "source": [
    "### 3. For mask compliance survey data"
   ]
  },
  {
   "cell_type": "markdown",
   "id": "abfbb72a",
   "metadata": {},
   "source": [
    "Saving the data for San Mateo by using the FIPS value we saved earlier in step 1 to a new data frame called 'mask_survey'"
   ]
  },
  {
   "cell_type": "code",
   "execution_count": 14,
   "id": "8df3db0f",
   "metadata": {},
   "outputs": [
    {
     "data": {
      "text/html": [
       "<div>\n",
       "<style scoped>\n",
       "    .dataframe tbody tr th:only-of-type {\n",
       "        vertical-align: middle;\n",
       "    }\n",
       "\n",
       "    .dataframe tbody tr th {\n",
       "        vertical-align: top;\n",
       "    }\n",
       "\n",
       "    .dataframe thead th {\n",
       "        text-align: right;\n",
       "    }\n",
       "</style>\n",
       "<table border=\"1\" class=\"dataframe\">\n",
       "  <thead>\n",
       "    <tr style=\"text-align: right;\">\n",
       "      <th></th>\n",
       "      <th>COUNTYFP</th>\n",
       "      <th>NEVER</th>\n",
       "      <th>RARELY</th>\n",
       "      <th>SOMETIMES</th>\n",
       "      <th>FREQUENTLY</th>\n",
       "      <th>ALWAYS</th>\n",
       "    </tr>\n",
       "  </thead>\n",
       "  <tbody>\n",
       "    <tr>\n",
       "      <th>226</th>\n",
       "      <td>6081</td>\n",
       "      <td>0.016</td>\n",
       "      <td>0.013</td>\n",
       "      <td>0.058</td>\n",
       "      <td>0.126</td>\n",
       "      <td>0.786</td>\n",
       "    </tr>\n",
       "  </tbody>\n",
       "</table>\n",
       "</div>"
      ],
      "text/plain": [
       "     COUNTYFP  NEVER  RARELY  SOMETIMES  FREQUENTLY  ALWAYS\n",
       "226      6081  0.016   0.013      0.058       0.126   0.786"
      ]
     },
     "execution_count": 14,
     "metadata": {},
     "output_type": "execute_result"
    }
   ],
   "source": [
    "mask_survey = mask_use[mask_use['COUNTYFP'] == int(san_mateo_FIPS)]\n",
    "\n",
    "# viewing the dataframe\n",
    "mask_survey"
   ]
  },
  {
   "cell_type": "markdown",
   "id": "a206b4e3",
   "metadata": {},
   "source": [
    "## Step 2: Visualize"
   ]
  },
  {
   "cell_type": "markdown",
   "id": "2a2e5abf",
   "metadata": {},
   "source": [
    "In this step we want you to create a graph that visualizes how the course of the disease was changed by masking policies. For your county, you should create a time series showing the changes in the derivative function of the rate of infection. Your graph should indicate days where masking policies were in effect (or not) and whether the difference in the derivative function was significant. "
   ]
  },
  {
   "cell_type": "code",
   "execution_count": 19,
   "id": "d80dbafa",
   "metadata": {},
   "outputs": [
    {
     "data": {
      "text/plain": [
       "<matplotlib.legend.Legend at 0x7fe9bb6f0e50>"
      ]
     },
     "execution_count": 19,
     "metadata": {},
     "output_type": "execute_result"
    },
    {
     "data": {
      "image/png": "[encoded data removed]",
      "text/plain": [
       "<Figure size 864x432 with 1 Axes>"
      ]
     },
     "metadata": {
      "needs_background": "light"
     },
     "output_type": "display_data"
    }
   ],
   "source": [
    "# Using the ruptures package for detecting change point\n",
    "# Pelt Search Method\n",
    "\n",
    "data = np.array(county_cases_bydate)\n",
    "algo = rpt.Pelt(model=\"rbf\").fit(data)\n",
    "\n",
    "change_locations = algo.predict(pen=10)\n",
    "change_locations = county_cases_bydate.iloc[change_locations[:-1]].index.to_list()\n",
    "\n",
    "plt.figure(figsize=(12,6))\n",
    "plt.plot(county_cases_bydate)\n",
    "\n",
    "# Plotting red horizontal lines for days when a change point is detected\n",
    "for i in change_locations:\n",
    "    plt.axvline(i,lw=2, color='red')\n",
    "    \n",
    "red_patch = mpatches.Patch(color='red', label='Change point detected')\n",
    "blue_patch = mpatches.Patch(color='b', label='Weekly confirmed cases')\n",
    "\n",
    "# -------------------------------------------------------------------------------------------\n",
    "# Adding titles and labels for the visualization    \n",
    "plt.title('Rate of Weekly New Covid Cases with the Mask Mandate Policies in San Mateo, CA', \n",
    "          fontdict = {'fontsize' : 20})\n",
    "plt.suptitle('Change point detection for weekly covid-19 new cases ', \n",
    "          fontdict = {'fontsize' : 20})\n",
    "plt.xlabel('Time')\n",
    "plt.ylabel('Number of new cases')\n",
    "\n",
    "# -------------------------------------------------------------------------------------------\n",
    "# As per CDC data\n",
    "# lighter green background = Mask mandate is YES\n",
    "# from the dataframe above 'm_mandate_county'\n",
    "\n",
    "plt.axvspan('2020-06-18', '2021-08-15', facecolor='g', alpha=0.2)\n",
    "lgreen_patch = mpatches.Patch(color='g', alpha=0.2, label='CDC Mask Mandate = YES')\n",
    "\n",
    "# -------------------------------------------------------------------------------------------\n",
    "# Estimates from The New York Times, based on roughly 250,000 interviews conducted by Dynata \n",
    "# from July 2 to July 14, 2020\n",
    "\n",
    "# From the dataframe 'mask_survey', frequently+always mask = 91.2%\n",
    "# hence darker green window for this time period\n",
    "\n",
    "plt.axvspan('2020-07-02', '2020-07-14', facecolor='g', alpha=0.4)\n",
    "dgreen_patch = mpatches.Patch(color='g', alpha=0.4, label='Mask survey = Frequently+Always')\n",
    "\n",
    "# -------------------------------------------------------------------------------------------\n",
    "# From the CDC data in the dataframe 'm_mandate_county' and from the internet that prior to \n",
    "# the start of 4/10/20 there was no mask mandate.\n",
    "# pink background = Mask Mandate is NO\n",
    "\n",
    "plt.axvspan('2020-02-01', '2020-06-17', facecolor='lightpink', alpha=0.2)\n",
    "lpink_patch = mpatches.Patch(color='lightpink', alpha=0.2, label='CDC Mask Mandate = NO')\n",
    "\n",
    "# -------------------------------------------------------------------------------------------\n",
    "# Using government website notice on the current mask mandate (As the CDC data is limited)\n",
    "# We see from the below source that as of June 15, 2021 - NO MASK MANDATE\n",
    "# source: smcgoc.org\n",
    "# link: https://www.smcgov.org/san-mateo-county-reopening\n",
    "\n",
    "plt.axvspan('2021-06-15', '2021-10-01', facecolor='lightcoral', alpha=0.5)\n",
    "lcoral_patch = mpatches.Patch(color='lightcoral', alpha=0.5, label='San Mateo Mask Mandate = NO')\n",
    "\n",
    "# -------------------------------------------------------------------------------------------\n",
    "# Passing all the patches arguments to the legend parameter\n",
    "plt.legend(handles=[blue_patch, red_patch, lgreen_patch, lpink_patch, dgreen_patch, lcoral_patch])"
   ]
  },
  {
   "cell_type": "code",
   "execution_count": 16,
   "id": "af7980c0",
   "metadata": {},
   "outputs": [
    {
     "data": {
      "text/plain": [
       "<Figure size 432x288 with 0 Axes>"
      ]
     },
     "metadata": {},
     "output_type": "display_data"
    }
   ],
   "source": [
    "# Saving the above figure as a .png file\n",
    "plt.savefig('part1_output_viz.png')\n",
    "plt.show()"
   ]
  }
 ],
 "metadata": {
  "kernelspec": {
   "display_name": "Python 3",
   "language": "python",
   "name": "python3"
  },
  "language_info": {
   "codemirror_mode": {
    "name": "ipython",
    "version": 3
   },
   "file_extension": ".py",
   "mimetype": "text/x-python",
   "name": "python",
   "nbconvert_exporter": "python",
   "pygments_lexer": "ipython3",
   "version": "3.8.8"
  }
 },
 "nbformat": 4,
 "nbformat_minor": 5
}
